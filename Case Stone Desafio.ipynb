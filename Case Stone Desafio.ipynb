{
 "cells": [
  {
   "cell_type": "markdown",
   "id": "984f6122-422b-41c1-90bf-7d8d0a51f5fd",
   "metadata": {},
   "source": [
    "# Desafio Stone DataChallenge 2022\n",
    "\n",
    "## Autor: Marcos William Sasaki"
   ]
  },
  {
   "cell_type": "code",
   "execution_count": 1,
   "id": "028bac85-9433-4858-a9f2-0733536548ec",
   "metadata": {},
   "outputs": [],
   "source": [
    "#Import das bibliotecas utilizadas\n",
    "import pandas as pd"
   ]
  },
  {
   "cell_type": "code",
   "execution_count": 6,
   "id": "cde84fec-5035-49b3-a599-3d4879d37246",
   "metadata": {},
   "outputs": [],
   "source": [
    "#Importando arquivos de dados: \n",
    "#portfolio_clientes.csv , portfolio_comunicados.csv , portfolio_geral.csv , portfolio_tpv.csv\n",
    "clientes=pd.read_csv(\"#DC2022/Dados_etc/Arquivos .csv/portfolio_clientes.csv\")\n",
    "comunicados=pd.read_csv(\"#DC2022/Dados_etc/Arquivos .csv/portfolio_comunicados.csv\")\n",
    "geral=pd.read_csv(\"#DC2022/Dados_etc/Arquivos .csv/portfolio_geral.csv\")\n",
    "tpv=pd.read_csv(\"#DC2022/Dados_etc/Arquivos .csv/portfolio_tpv.csv\")"
   ]
  }
 ],
 "metadata": {
  "kernelspec": {
   "display_name": "Python 3",
   "language": "python",
   "name": "python3"
  },
  "language_info": {
   "codemirror_mode": {
    "name": "ipython",
    "version": 3
   },
   "file_extension": ".py",
   "mimetype": "text/x-python",
   "name": "python",
   "nbconvert_exporter": "python",
   "pygments_lexer": "ipython3",
   "version": "3.8.8"
  }
 },
 "nbformat": 4,
 "nbformat_minor": 5
}
